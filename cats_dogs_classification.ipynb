{
 "cells": [
  {
   "cell_type": "code",
   "execution_count": 2,
   "metadata": {},
   "outputs": [],
   "source": [
    "import tensorflow as tf\n",
    "import numpy as np"
   ]
  },
  {
   "cell_type": "code",
   "execution_count": 3,
   "metadata": {},
   "outputs": [],
   "source": [
    "import tensorflow.contrib.keras.api.keras as keras\n",
    "from tensorflow.contrib.keras.api.keras.preprocessing.image import \\\n",
    "ImageDataGenerator, array_to_img, img_to_array, load_img"
   ]
  },
  {
   "cell_type": "code",
   "execution_count": 4,
   "metadata": {},
   "outputs": [],
   "source": [
    "from tensorflow.contrib.keras.api.keras import *"
   ]
  },
  {
   "cell_type": "code",
   "execution_count": 4,
   "metadata": {
    "collapsed": true
   },
   "outputs": [],
   "source": [
    "datagen = ImageDataGenerator(\n",
    "        rotation_range=40,\n",
    "        width_shift_range=0.2,\n",
    "        height_shift_range=0.2,\n",
    "        shear_range=0.2,\n",
    "        zoom_range=0.2,\n",
    "        horizontal_flip=True,\n",
    "        fill_mode='nearest')"
   ]
  },
  {
   "cell_type": "code",
   "execution_count": 18,
   "metadata": {},
   "outputs": [],
   "source": [
    "img = load_img('data/train/cats/cat.0.jpg')  # this is a PIL image\n",
    "x = img_to_array(img)  # this is a Numpy array with shape (3, 150, 150)\n",
    "x = x.reshape((1,) + x.shape)  # this is a Numpy array with shape (1, 3, 150, 150)\n",
    "\n",
    "# the .flow() command below generates batches of randomly transformed images\n",
    "# and saves the results to the `preview/` directory\n",
    "i = 0\n",
    "for batch in datagen.flow(x, batch_size=1,\n",
    "                          save_to_dir='preview', save_prefix='cat', save_format='jpeg'):\n",
    "    i += 1\n",
    "    if i > 20:\n",
    "        break  # otherwise the generator would loop indefinitely"
   ]
  },
  {
   "cell_type": "code",
   "execution_count": 30,
   "metadata": {},
   "outputs": [
    {
     "ename": "AttributeError",
     "evalue": "'JpegImageFile' object has no attribute 'get_shape'",
     "output_type": "error",
     "traceback": [
      "\u001b[0;31m---------------------------------------------------------------------------\u001b[0m",
      "\u001b[0;31mAttributeError\u001b[0m                            Traceback (most recent call last)",
      "\u001b[0;32m<ipython-input-30-6309e1797b09>\u001b[0m in \u001b[0;36m<module>\u001b[0;34m()\u001b[0m\n\u001b[0;32m----> 1\u001b[0;31m \u001b[0mimg\u001b[0m\u001b[0;34m.\u001b[0m\u001b[0mget_shape\u001b[0m\u001b[0;34m\u001b[0m\u001b[0m\n\u001b[0m",
      "\u001b[0;31mAttributeError\u001b[0m: 'JpegImageFile' object has no attribute 'get_shape'"
     ]
    }
   ],
   "source": [
    "img"
   ]
  },
  {
   "cell_type": "code",
   "execution_count": 11,
   "metadata": {},
   "outputs": [],
   "source": [
    "from tensorflow.contrib.keras.api.keras.models import Sequential\n",
    "from tensorflow.contrib.keras.api.keras.layers import Conv2D, MaxPooling2D\n",
    "from tensorflow.contrib.keras.api.keras.layers import Activation, Dropout, Flatten, Dense"
   ]
  },
  {
   "cell_type": "code",
   "execution_count": 31,
   "metadata": {},
   "outputs": [],
   "source": [
    "model = Sequential()\n",
    "model.add(Conv2D(32, (3, 3), input_shape=(150, 150, 3)))\n",
    "model.add(Activation('relu'))\n",
    "model.add(MaxPooling2D(pool_size=(2, 2)))\n",
    "\n",
    "model.add(Conv2D(32, (3, 3)))\n",
    "model.add(Activation('relu'))\n",
    "model.add(MaxPooling2D(pool_size=(2, 2)))\n",
    "\n",
    "model.add(Conv2D(64, (3, 3)))\n",
    "model.add(Activation('relu'))\n",
    "model.add(MaxPooling2D(pool_size=(2, 2)))\n",
    "\n",
    "# the model so far outputs 3D feature maps (height, width, features)\n",
    "\n",
    "model.add(Flatten())  # this converts our 3D feature maps to 1D feature vectors\n",
    "model.add(Dense(64))\n",
    "model.add(Activation('relu'))\n",
    "model.add(Dropout(0.5))\n",
    "model.add(Dense(1))\n",
    "model.add(Activation('sigmoid'))\n",
    "\n",
    "model.compile(loss='binary_crossentropy',\n",
    "              optimizer='rmsprop',\n",
    "              metrics=['accuracy'])"
   ]
  },
  {
   "cell_type": "code",
   "execution_count": 32,
   "metadata": {
    "collapsed": true
   },
   "outputs": [],
   "source": [
    "batch_size = 16\n",
    "\n",
    "# this is the augmentation configuration we will use for training\n",
    "train_datagen = ImageDataGenerator(\n",
    "        rescale=1./255,\n",
    "        shear_range=0.2,\n",
    "        zoom_range=0.2,\n",
    "        horizontal_flip=True)\n",
    "\n",
    "# this is the augmentation configuration we will use for testing:\n",
    "# only rescaling\n",
    "test_datagen = ImageDataGenerator(rescale=1./255)"
   ]
  },
  {
   "cell_type": "code",
   "execution_count": 33,
   "metadata": {},
   "outputs": [
    {
     "name": "stdout",
     "output_type": "stream",
     "text": [
      "Found 2000 images belonging to 2 classes.\n",
      "Found 1000 images belonging to 1 classes.\n"
     ]
    }
   ],
   "source": [
    "# this is a generator that will read pictures found in\n",
    "# subfolers of 'data/train', and indefinitely generate\n",
    "# batches of augmented image data\n",
    "train_generator = train_datagen.flow_from_directory(\n",
    "        'data/train',  # this is the target directory\n",
    "        target_size=(150, 150),  # all images will be resized to 150x150\n",
    "        batch_size=batch_size,\n",
    "        class_mode='binary')  # since we use binary_crossentropy loss, we need binary labels\n",
    "\n",
    "# this is a similar generator, for validation data\n",
    "validation_generator = test_datagen.flow_from_directory(\n",
    "        'data/validation',\n",
    "        target_size=(150, 150),\n",
    "        batch_size=batch_size,\n",
    "        class_mode='binary')"
   ]
  },
  {
   "cell_type": "code",
   "execution_count": 55,
   "metadata": {},
   "outputs": [],
   "source": [
    "# build the VGG16 network\n",
    "model = applications.VGG16(include_top=False, weights=None)\n",
    "model.load_weights('/Users/Gundeep/Downloads/vgg16_weights_tf_dim_ordering_tf_kernels_notop.h5')"
   ]
  },
  {
   "cell_type": "code",
   "execution_count": 59,
   "metadata": {},
   "outputs": [
    {
     "name": "stdout",
     "output_type": "stream",
     "text": [
      "Found 2000 images belonging to 2 classes.\n"
     ]
    }
   ],
   "source": [
    "img_width, img_height = 150, 150\n",
    "\n",
    "generator = datagen.flow_from_directory(\n",
    "        'data/train',\n",
    "        target_size=(img_width, img_height),\n",
    "        batch_size=batch_size,\n",
    "        class_mode=None,\n",
    "        shuffle=False)\n",
    "bottleneck_features_train = model.predict_generator(\n",
    "        generator, 2000 // batch_size)"
   ]
  },
  {
   "cell_type": "code",
   "execution_count": 64,
   "metadata": {},
   "outputs": [],
   "source": [
    "bottleneck_features_train.shape\n",
    "np.save(open('bottleneck_features_train.npy', 'wb'),\n",
    "            bottleneck_features_train)"
   ]
  },
  {
   "cell_type": "code",
   "execution_count": 65,
   "metadata": {},
   "outputs": [
    {
     "name": "stdout",
     "output_type": "stream",
     "text": [
      "Found 2002 images belonging to 2 classes.\n"
     ]
    }
   ],
   "source": [
    "generator = datagen.flow_from_directory(\n",
    "        'data/validation',\n",
    "        target_size=(img_width, img_height),\n",
    "        batch_size=batch_size,\n",
    "        class_mode=None,\n",
    "        shuffle=False)\n",
    "bottleneck_features_validation = model.predict_generator(\n",
    "        generator, 2000 // batch_size)\n",
    "np.save(open('bottleneck_features_validation.npy', 'wb'),\n",
    "        bottleneck_features_validation)"
   ]
  },
  {
   "cell_type": "code",
   "execution_count": 25,
   "metadata": {},
   "outputs": [],
   "source": [
    "nb_train_samples = 2000\n",
    "nb_validation_samples = 2000\n",
    "epochs = 100\n",
    "batch_size = 16\n",
    "top_model_weights_path = 'bottleneck_fc_model.h5'\n",
    "\n",
    "def train_top_model():\n",
    "    train_data = np.load(open('bottleneck_features_train.npy','rb'))\n",
    "    train_labels = np.array(\n",
    "        [0] * 1000 + [1] * 1000)\n",
    "\n",
    "    validation_data = np.load(open('bottleneck_features_validation.npy','rb'))\n",
    "    validation_labels = np.array(\n",
    "        [0] * 1000 + [1] * 1000)\n",
    "\n",
    "    model = Sequential()\n",
    "    model.add(Flatten(input_shape=train_data.shape[1:]))\n",
    "    model.add(Dense(256, activation='relu'))\n",
    "    model.add(Dropout(0.5))\n",
    "    model.add(Dense(1, activation='sigmoid'))\n",
    "\n",
    "    model.compile(optimizer='rmsprop',\n",
    "                  loss='binary_crossentropy', metrics=['accuracy'])\n",
    "\n",
    "    mod_his = model.fit(train_data, train_labels,\n",
    "              epochs=epochs,\n",
    "              batch_size=batch_size,\n",
    "              validation_data=(validation_data, validation_labels))\n",
    "    model.save_weights(top_model_weights_path)\n",
    "    return mod_his"
   ]
  },
  {
   "cell_type": "code",
   "execution_count": 26,
   "metadata": {
    "scrolled": true
   },
   "outputs": [
    {
     "name": "stdout",
     "output_type": "stream",
     "text": [
      "Train on 2000 samples, validate on 2000 samples\n",
      "Epoch 1/100\n",
      "2000/2000 [==============================] - 0s - loss: 4.3959 - acc: 0.7045 - val_loss: 2.9016 - val_acc: 0.8045\n",
      "Epoch 2/100\n",
      "2000/2000 [==============================] - 0s - loss: 3.2661 - acc: 0.7850 - val_loss: 2.3444 - val_acc: 0.8455\n",
      "Epoch 3/100\n",
      "2000/2000 [==============================] - 0s - loss: 2.3643 - acc: 0.8430 - val_loss: 2.1856 - val_acc: 0.8555\n",
      "Epoch 4/100\n",
      "2000/2000 [==============================] - 0s - loss: 2.1543 - acc: 0.8585 - val_loss: 2.3106 - val_acc: 0.8495\n",
      "Epoch 5/100\n",
      "2000/2000 [==============================] - 0s - loss: 2.2369 - acc: 0.8545 - val_loss: 2.2521 - val_acc: 0.8530\n",
      "Epoch 6/100\n",
      "2000/2000 [==============================] - 0s - loss: 2.1095 - acc: 0.8635 - val_loss: 3.3628 - val_acc: 0.7805\n",
      "Epoch 7/100\n",
      "2000/2000 [==============================] - 0s - loss: 2.0088 - acc: 0.8690 - val_loss: 2.6961 - val_acc: 0.8260\n",
      "Epoch 8/100\n",
      "2000/2000 [==============================] - 0s - loss: 1.8502 - acc: 0.8805 - val_loss: 2.3302 - val_acc: 0.8485\n",
      "Epoch 9/100\n",
      "2000/2000 [==============================] - 0s - loss: 1.7645 - acc: 0.8860 - val_loss: 1.9562 - val_acc: 0.8710\n",
      "Epoch 10/100\n",
      "2000/2000 [==============================] - 0s - loss: 1.7835 - acc: 0.8835 - val_loss: 2.0419 - val_acc: 0.8680\n",
      "Epoch 11/100\n",
      "2000/2000 [==============================] - 0s - loss: 1.6651 - acc: 0.8925 - val_loss: 2.8766 - val_acc: 0.8150\n",
      "Epoch 12/100\n",
      "2000/2000 [==============================] - 0s - loss: 1.7888 - acc: 0.8840 - val_loss: 2.2580 - val_acc: 0.8530\n",
      "Epoch 13/100\n",
      "2000/2000 [==============================] - 0s - loss: 1.6307 - acc: 0.8970 - val_loss: 1.9459 - val_acc: 0.8760\n",
      "Epoch 14/100\n",
      "2000/2000 [==============================] - 0s - loss: 1.5683 - acc: 0.8965 - val_loss: 3.0384 - val_acc: 0.8020\n",
      "Epoch 15/100\n",
      "2000/2000 [==============================] - 0s - loss: 2.0785 - acc: 0.8670 - val_loss: 2.0526 - val_acc: 0.8675\n",
      "Epoch 16/100\n",
      "2000/2000 [==============================] - 0s - loss: 1.8366 - acc: 0.8810 - val_loss: 2.0454 - val_acc: 0.8685\n",
      "Epoch 17/100\n",
      "2000/2000 [==============================] - 0s - loss: 1.7926 - acc: 0.8850 - val_loss: 2.4083 - val_acc: 0.8480\n",
      "Epoch 18/100\n",
      "2000/2000 [==============================] - 0s - loss: 1.8220 - acc: 0.8840 - val_loss: 2.3419 - val_acc: 0.8525\n",
      "Epoch 19/100\n",
      "2000/2000 [==============================] - 0s - loss: 1.4960 - acc: 0.9030 - val_loss: 2.0857 - val_acc: 0.8655\n",
      "Epoch 20/100\n",
      "2000/2000 [==============================] - 0s - loss: 1.4799 - acc: 0.9050 - val_loss: 2.3364 - val_acc: 0.8500\n",
      "Epoch 21/100\n",
      "2000/2000 [==============================] - 0s - loss: 1.4122 - acc: 0.9090 - val_loss: 2.2260 - val_acc: 0.8595\n",
      "Epoch 22/100\n",
      "2000/2000 [==============================] - 0s - loss: 1.4213 - acc: 0.9100 - val_loss: 2.1127 - val_acc: 0.8650\n",
      "Epoch 23/100\n",
      "2000/2000 [==============================] - 0s - loss: 1.5413 - acc: 0.9010 - val_loss: 2.0733 - val_acc: 0.8670\n",
      "Epoch 24/100\n",
      "2000/2000 [==============================] - 0s - loss: 1.4035 - acc: 0.9100 - val_loss: 2.6104 - val_acc: 0.8360\n",
      "Epoch 25/100\n",
      "2000/2000 [==============================] - 0s - loss: 1.4109 - acc: 0.9095 - val_loss: 2.2902 - val_acc: 0.8535\n",
      "Epoch 26/100\n",
      "2000/2000 [==============================] - 0s - loss: 1.2211 - acc: 0.9225 - val_loss: 2.0387 - val_acc: 0.8690\n",
      "Epoch 27/100\n",
      "2000/2000 [==============================] - 0s - loss: 1.2217 - acc: 0.9230 - val_loss: 1.9814 - val_acc: 0.8755\n",
      "Epoch 28/100\n",
      "2000/2000 [==============================] - 0s - loss: 1.1340 - acc: 0.9265 - val_loss: 2.0021 - val_acc: 0.8740\n",
      "Epoch 29/100\n",
      "2000/2000 [==============================] - 0s - loss: 1.2094 - acc: 0.9215 - val_loss: 2.1535 - val_acc: 0.8630\n",
      "Epoch 30/100\n",
      "2000/2000 [==============================] - 0s - loss: 1.1050 - acc: 0.9280 - val_loss: 1.9852 - val_acc: 0.8745\n",
      "Epoch 31/100\n",
      "2000/2000 [==============================] - 0s - loss: 0.9720 - acc: 0.9380 - val_loss: 1.9246 - val_acc: 0.8780\n",
      "Epoch 32/100\n",
      "2000/2000 [==============================] - 0s - loss: 0.9993 - acc: 0.9360 - val_loss: 1.9496 - val_acc: 0.8745\n",
      "Epoch 33/100\n",
      "2000/2000 [==============================] - 0s - loss: 1.1672 - acc: 0.9255 - val_loss: 2.0772 - val_acc: 0.8695\n",
      "Epoch 34/100\n",
      "2000/2000 [==============================] - 0s - loss: 1.0110 - acc: 0.9350 - val_loss: 1.9737 - val_acc: 0.8720\n",
      "Epoch 35/100\n",
      "2000/2000 [==============================] - 0s - loss: 1.2317 - acc: 0.9200 - val_loss: 1.8953 - val_acc: 0.8790\n",
      "Epoch 36/100\n",
      "2000/2000 [==============================] - 0s - loss: 1.0736 - acc: 0.9300 - val_loss: 1.9016 - val_acc: 0.8790\n",
      "Epoch 37/100\n",
      "2000/2000 [==============================] - 0s - loss: 0.9997 - acc: 0.9365 - val_loss: 1.9207 - val_acc: 0.8780\n",
      "Epoch 38/100\n",
      "2000/2000 [==============================] - 0s - loss: 0.9433 - acc: 0.9395 - val_loss: 1.8911 - val_acc: 0.8805\n",
      "Epoch 39/100\n",
      "2000/2000 [==============================] - 0s - loss: 0.8790 - acc: 0.9425 - val_loss: 1.8939 - val_acc: 0.8795\n",
      "Epoch 40/100\n",
      "2000/2000 [==============================] - 0s - loss: 0.8724 - acc: 0.9445 - val_loss: 1.9822 - val_acc: 0.8750\n",
      "Epoch 41/100\n",
      "2000/2000 [==============================] - 0s - loss: 0.8217 - acc: 0.9460 - val_loss: 1.8605 - val_acc: 0.8805\n",
      "Epoch 42/100\n",
      "2000/2000 [==============================] - 0s - loss: 0.8361 - acc: 0.9465 - val_loss: 1.8136 - val_acc: 0.8845\n",
      "Epoch 43/100\n",
      "2000/2000 [==============================] - 0s - loss: 0.8195 - acc: 0.9455 - val_loss: 2.0855 - val_acc: 0.8665\n",
      "Epoch 44/100\n",
      "2000/2000 [==============================] - 0s - loss: 0.8644 - acc: 0.9455 - val_loss: 1.8658 - val_acc: 0.8810\n",
      "Epoch 45/100\n",
      "2000/2000 [==============================] - 0s - loss: 0.7816 - acc: 0.9480 - val_loss: 1.7498 - val_acc: 0.8875\n",
      "Epoch 46/100\n",
      "2000/2000 [==============================] - 0s - loss: 0.9186 - acc: 0.9405 - val_loss: 1.8281 - val_acc: 0.8830\n",
      "Epoch 47/100\n",
      "2000/2000 [==============================] - 0s - loss: 0.7713 - acc: 0.9510 - val_loss: 1.8287 - val_acc: 0.8835\n",
      "Epoch 48/100\n",
      "2000/2000 [==============================] - 0s - loss: 0.7387 - acc: 0.9525 - val_loss: 1.8600 - val_acc: 0.8825\n",
      "Epoch 49/100\n",
      "2000/2000 [==============================] - 0s - loss: 0.8814 - acc: 0.9440 - val_loss: 1.9895 - val_acc: 0.8735\n",
      "Epoch 50/100\n",
      "2000/2000 [==============================] - 0s - loss: 0.6660 - acc: 0.9565 - val_loss: 1.8722 - val_acc: 0.8810\n",
      "Epoch 51/100\n",
      "2000/2000 [==============================] - 0s - loss: 0.6116 - acc: 0.9615 - val_loss: 1.9279 - val_acc: 0.8765\n",
      "Epoch 52/100\n",
      "2000/2000 [==============================] - 0s - loss: 0.6660 - acc: 0.9560 - val_loss: 1.8618 - val_acc: 0.8800\n",
      "Epoch 53/100\n",
      "2000/2000 [==============================] - 0s - loss: 0.7275 - acc: 0.9530 - val_loss: 2.0462 - val_acc: 0.8685\n",
      "Epoch 54/100\n",
      "2000/2000 [==============================] - 0s - loss: 0.6834 - acc: 0.9565 - val_loss: 1.8660 - val_acc: 0.8795\n",
      "Epoch 55/100\n",
      "2000/2000 [==============================] - 0s - loss: 0.7325 - acc: 0.9535 - val_loss: 1.8677 - val_acc: 0.8790\n",
      "Epoch 56/100\n",
      "2000/2000 [==============================] - 0s - loss: 0.6205 - acc: 0.9595 - val_loss: 1.8375 - val_acc: 0.8820\n",
      "Epoch 57/100\n",
      "2000/2000 [==============================] - 0s - loss: 0.6584 - acc: 0.9590 - val_loss: 1.9198 - val_acc: 0.8775\n",
      "Epoch 58/100\n",
      "2000/2000 [==============================] - 0s - loss: 0.8627 - acc: 0.9450 - val_loss: 2.0469 - val_acc: 0.8695\n",
      "Epoch 59/100\n",
      "2000/2000 [==============================] - 0s - loss: 0.6666 - acc: 0.9575 - val_loss: 1.9482 - val_acc: 0.8775\n",
      "Epoch 60/100\n",
      "2000/2000 [==============================] - 0s - loss: 0.8322 - acc: 0.9475 - val_loss: 1.8972 - val_acc: 0.8805\n",
      "Epoch 61/100\n",
      "2000/2000 [==============================] - 0s - loss: 0.7516 - acc: 0.9515 - val_loss: 1.9157 - val_acc: 0.8780\n",
      "Epoch 62/100\n",
      "2000/2000 [==============================] - 0s - loss: 0.6660 - acc: 0.9580 - val_loss: 1.8531 - val_acc: 0.8805\n",
      "Epoch 63/100\n",
      "2000/2000 [==============================] - 0s - loss: 0.6518 - acc: 0.9590 - val_loss: 1.8108 - val_acc: 0.8850\n",
      "Epoch 64/100\n",
      "2000/2000 [==============================] - 0s - loss: 0.6424 - acc: 0.9590 - val_loss: 1.8396 - val_acc: 0.8835\n",
      "Epoch 65/100\n"
     ]
    },
    {
     "name": "stdout",
     "output_type": "stream",
     "text": [
      "2000/2000 [==============================] - 0s - loss: 0.5485 - acc: 0.9655 - val_loss: 1.8109 - val_acc: 0.8845\n",
      "Epoch 66/100\n",
      "2000/2000 [==============================] - 0s - loss: 0.6106 - acc: 0.9615 - val_loss: 1.8020 - val_acc: 0.8855\n",
      "Epoch 67/100\n",
      "2000/2000 [==============================] - 0s - loss: 0.5800 - acc: 0.9610 - val_loss: 1.8495 - val_acc: 0.8835\n",
      "Epoch 68/100\n",
      "2000/2000 [==============================] - 0s - loss: 0.5790 - acc: 0.9625 - val_loss: 1.9841 - val_acc: 0.8730\n",
      "Epoch 69/100\n",
      "2000/2000 [==============================] - 0s - loss: 0.6142 - acc: 0.9600 - val_loss: 1.8047 - val_acc: 0.8855\n",
      "Epoch 70/100\n",
      "2000/2000 [==============================] - 0s - loss: 0.5405 - acc: 0.9655 - val_loss: 1.9447 - val_acc: 0.8765\n",
      "Epoch 71/100\n",
      "2000/2000 [==============================] - 0s - loss: 0.5797 - acc: 0.9635 - val_loss: 1.8343 - val_acc: 0.8820\n",
      "Epoch 72/100\n",
      "2000/2000 [==============================] - 0s - loss: 0.4979 - acc: 0.9675 - val_loss: 1.8720 - val_acc: 0.8795\n",
      "Epoch 73/100\n",
      "2000/2000 [==============================] - 0s - loss: 0.5977 - acc: 0.9620 - val_loss: 1.8465 - val_acc: 0.8830\n",
      "Epoch 74/100\n",
      "2000/2000 [==============================] - 0s - loss: 0.5546 - acc: 0.9635 - val_loss: 1.8713 - val_acc: 0.8810\n",
      "Epoch 75/100\n",
      "2000/2000 [==============================] - 0s - loss: 0.5779 - acc: 0.9635 - val_loss: 1.7747 - val_acc: 0.8855\n",
      "Epoch 76/100\n",
      "2000/2000 [==============================] - 0s - loss: 0.5203 - acc: 0.9660 - val_loss: 1.8591 - val_acc: 0.8805\n",
      "Epoch 77/100\n",
      "2000/2000 [==============================] - 0s - loss: 0.5017 - acc: 0.9675 - val_loss: 1.8324 - val_acc: 0.8825\n",
      "Epoch 78/100\n",
      "2000/2000 [==============================] - 0s - loss: 0.5071 - acc: 0.9670 - val_loss: 1.9297 - val_acc: 0.8765\n",
      "Epoch 79/100\n",
      "2000/2000 [==============================] - 0s - loss: 0.5351 - acc: 0.9660 - val_loss: 1.8044 - val_acc: 0.8855\n",
      "Epoch 80/100\n",
      "2000/2000 [==============================] - 0s - loss: 0.5087 - acc: 0.9665 - val_loss: 1.8692 - val_acc: 0.8795\n",
      "Epoch 81/100\n",
      "2000/2000 [==============================] - 0s - loss: 0.4186 - acc: 0.9730 - val_loss: 1.7961 - val_acc: 0.8860\n",
      "Epoch 82/100\n",
      "2000/2000 [==============================] - 0s - loss: 0.4776 - acc: 0.9690 - val_loss: 1.8756 - val_acc: 0.8805\n",
      "Epoch 83/100\n",
      "2000/2000 [==============================] - 0s - loss: 0.4848 - acc: 0.9685 - val_loss: 1.8323 - val_acc: 0.8830\n",
      "Epoch 84/100\n",
      "2000/2000 [==============================] - 0s - loss: 0.4719 - acc: 0.9690 - val_loss: 1.8703 - val_acc: 0.8815\n",
      "Epoch 85/100\n",
      "2000/2000 [==============================] - 0s - loss: 0.4509 - acc: 0.9710 - val_loss: 1.8342 - val_acc: 0.8850\n",
      "Epoch 86/100\n",
      "2000/2000 [==============================] - 0s - loss: 0.4252 - acc: 0.9730 - val_loss: 1.7890 - val_acc: 0.8870\n",
      "Epoch 87/100\n",
      "2000/2000 [==============================] - 0s - loss: 0.5432 - acc: 0.9660 - val_loss: 1.7963 - val_acc: 0.8845\n",
      "Epoch 88/100\n",
      "2000/2000 [==============================] - 0s - loss: 0.4237 - acc: 0.9720 - val_loss: 1.8426 - val_acc: 0.8830\n",
      "Epoch 89/100\n",
      "2000/2000 [==============================] - 0s - loss: 0.4587 - acc: 0.9700 - val_loss: 1.7970 - val_acc: 0.8870\n",
      "Epoch 90/100\n",
      "2000/2000 [==============================] - 0s - loss: 0.5253 - acc: 0.9660 - val_loss: 1.8263 - val_acc: 0.8825\n",
      "Epoch 91/100\n",
      "2000/2000 [==============================] - 0s - loss: 0.3955 - acc: 0.9745 - val_loss: 1.8876 - val_acc: 0.8805\n",
      "Epoch 92/100\n",
      "2000/2000 [==============================] - 0s - loss: 0.4014 - acc: 0.9730 - val_loss: 1.8478 - val_acc: 0.8800\n",
      "Epoch 93/100\n",
      "2000/2000 [==============================] - 0s - loss: 0.3958 - acc: 0.9745 - val_loss: 1.8378 - val_acc: 0.8845\n",
      "Epoch 94/100\n",
      "2000/2000 [==============================] - 0s - loss: 0.4590 - acc: 0.9700 - val_loss: 1.9357 - val_acc: 0.8770\n",
      "Epoch 95/100\n",
      "2000/2000 [==============================] - 0s - loss: 0.3917 - acc: 0.9750 - val_loss: 1.7554 - val_acc: 0.8875\n",
      "Epoch 96/100\n",
      "2000/2000 [==============================] - 0s - loss: 0.4825 - acc: 0.9690 - val_loss: 1.9008 - val_acc: 0.8800\n",
      "Epoch 97/100\n",
      "2000/2000 [==============================] - 0s - loss: 0.3475 - acc: 0.9775 - val_loss: 1.7698 - val_acc: 0.8885\n",
      "Epoch 98/100\n",
      "2000/2000 [==============================] - 0s - loss: 0.4079 - acc: 0.9745 - val_loss: 1.7692 - val_acc: 0.8870\n",
      "Epoch 99/100\n",
      "2000/2000 [==============================] - 0s - loss: 0.4389 - acc: 0.9710 - val_loss: 1.7511 - val_acc: 0.8870\n",
      "Epoch 100/100\n",
      "2000/2000 [==============================] - 0s - loss: 0.4006 - acc: 0.9750 - val_loss: 1.7379 - val_acc: 0.8860\n"
     ]
    }
   ],
   "source": [
    "mod_hist = train_top_model()"
   ]
  },
  {
   "cell_type": "code",
   "execution_count": 27,
   "metadata": {},
   "outputs": [],
   "source": [
    "import matplotlib.pyplot as plt\n",
    "def plot_history(plottable_history,plotevery=10):\n",
    "    #  print(plottable_history.history.keys())\n",
    "    #  \"Accuracy\"\n",
    "    plt.plot(plottable_history.history['acc'][::plotevery])\n",
    "    plt.plot(plottable_history.history['val_acc'][::plotevery])\n",
    "    plt.title('model accuracy')\n",
    "    plt.ylabel('accuracy')\n",
    "    plt.xlabel('epoch')\n",
    "    plt.legend(['train', 'validation'], loc='upper left')\n",
    "    plt.show()\n",
    "    # \"Loss\"\n",
    "    plt.plot(plottable_history.history['loss'][::plotevery])\n",
    "    plt.plot(plottable_history.history['val_loss'][::plotevery])\n",
    "    plt.title('model loss')\n",
    "    plt.ylabel('loss')\n",
    "    plt.xlabel('epoch')\n",
    "    plt.legend(['train', 'validation'], loc='upper left')\n",
    "    plt.show()"
   ]
  },
  {
   "cell_type": "code",
   "execution_count": 28,
   "metadata": {},
   "outputs": [
    {
     "data": {
      "image/png": "[encoded data removed]",
      "text/plain": [
       "<matplotlib.figure.Figure at 0x7f96de5910f0>"
      ]
     },
     "metadata": {},
     "output_type": "display_data"
    },
    {
     "data": {
      "image/png": "[encoded data removed]",
      "text/plain": [
       "<matplotlib.figure.Figure at 0x7f96de5349b0>"
      ]
     },
     "metadata": {},
     "output_type": "display_data"
    }
   ],
   "source": [
    "plot_history(mod_hist)"
   ]
  },
  {
   "cell_type": "code",
   "execution_count": null,
   "metadata": {},
   "outputs": [],
   "source": []
  }
 ],
 "metadata": {
  "kernelspec": {
   "display_name": "Python 3",
   "language": "python",
   "name": "python3"
  },
  "language_info": {
   "codemirror_mode": {
    "name": "ipython",
    "version": 3
   },
   "file_extension": ".py",
   "mimetype": "text/x-python",
   "name": "python",
   "nbconvert_exporter": "python",
   "pygments_lexer": "ipython3",
   "version": "3.5.2"
  }
 },
 "nbformat": 4,
 "nbformat_minor": 2
}
